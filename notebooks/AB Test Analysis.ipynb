{
 "cells": [
  {
   "cell_type": "markdown",
   "id": "1fb2b0ec-f171-4d9c-b6eb-3874e4939a1f",
   "metadata": {},
   "source": [
    "### A/B Test Analysis: Jupyter Notebook Version"
   ]
  },
  {
   "cell_type": "code",
   "execution_count": 41,
   "id": "8f22077c-a308-4671-886d-f4aa1b129800",
   "metadata": {},
   "outputs": [],
   "source": [
    "import numpy as np\n",
    "import pandas as pd\n",
    "import matplotlib.pyplot as plt\n",
    "import seaborn as sns\n",
    "from scipy.stats import norm, ttest_ind"
   ]
  },
  {
   "cell_type": "code",
   "execution_count": 42,
   "id": "8a05de85-f975-4aad-8788-bc7019b89e8d",
   "metadata": {},
   "outputs": [],
   "source": [
    "# Set seed for reproducibility\n",
    "np.random.seed(42)"
   ]
  },
  {
   "cell_type": "code",
   "execution_count": 43,
   "id": "ab504aa7-2b09-4147-8963-a59ee124e8a2",
   "metadata": {},
   "outputs": [],
   "source": [
    "# Simulate A/B test data\n",
    "n_control = 1000\n",
    "n_variant = 1000"
   ]
  },
  {
   "cell_type": "code",
   "execution_count": 44,
   "id": "bbecc84e-9d0e-404b-935d-9cf88db598f4",
   "metadata": {},
   "outputs": [],
   "source": [
    "# Conversion rates\n",
    "p_control = 0.12  # 12% baseline conversion\n",
    "p_variant = 0.145  # 14.5% conversion for variant"
   ]
  },
  {
   "cell_type": "code",
   "execution_count": 45,
   "id": "d2952c9c-540d-461e-809b-a28d31ad284c",
   "metadata": {},
   "outputs": [],
   "source": [
    "# Simulate conversions (1 = converted, 0 = not)\n",
    "control_group = np.random.binomial(1, p_control, n_control)\n",
    "variant_group = np.random.binomial(1, p_variant, n_variant)"
   ]
  },
  {
   "cell_type": "code",
   "execution_count": 46,
   "id": "2049976d-dcc8-4ccc-a407-8b0ffde75b1b",
   "metadata": {},
   "outputs": [],
   "source": [
    "# Create DataFrame\n",
    "ab_data = pd.DataFrame({\n",
    "    'group': ['control'] * n_control + ['variant'] * n_variant,\n",
    "    'converted': np.concatenate([control_group, variant_group])\n",
    "})"
   ]
  },
  {
   "cell_type": "code",
   "execution_count": 47,
   "id": "590416f1-5077-4e79-9b5e-04da1dfa9238",
   "metadata": {},
   "outputs": [],
   "source": [
    "# Calculate conversion rates\n",
    "conversion_rates = ab_data.groupby('group')['converted'].mean().reset_index()"
   ]
  },
  {
   "cell_type": "code",
   "execution_count": 48,
   "id": "5413e294-1978-4424-972e-5e023c7b002c",
   "metadata": {},
   "outputs": [],
   "source": [
    "# Perform t-test\n",
    "t_stat, p_val = ttest_ind(control_group, variant_group)"
   ]
  },
  {
   "cell_type": "code",
   "execution_count": 49,
   "id": "9d38566e-dac8-4476-bca9-7e4c3e7038f1",
   "metadata": {},
   "outputs": [],
   "source": [
    "# Prepare data for visualization\n",
    "summary = conversion_rates.copy()\n",
    "summary['count'] = ab_data.groupby('group')['converted'].count().values\n",
    "summary['std_err'] = ab_data.groupby('group')['converted'].std().values / np.sqrt(summary['count'])"
   ]
  },
  {
   "cell_type": "code",
   "execution_count": 50,
   "id": "351d9241-a015-403d-a62b-74b0f2cfe347",
   "metadata": {},
   "outputs": [
    {
     "data": {
      "image/png": "[encoded data removed]",
      "text/plain": [
       "<Figure size 800x600 with 1 Axes>"
      ]
     },
     "metadata": {},
     "output_type": "display_data"
    }
   ],
   "source": [
    "# Plot conversion rates with error bars using matplotlib\n",
    "fig, ax = plt.subplots(figsize=(8, 6))\n",
    "ax.bar(summary['group'], summary['converted'], yerr=summary['std_err'], capsize=10, color=['gray', 'blue'])\n",
    "ax.set_title('Conversion Rate by Group with 95% CI')\n",
    "ax.set_ylabel('Conversion Rate')\n",
    "ax.set_xlabel('Group')\n",
    "plt.tight_layout()\n",
    "plt.show()"
   ]
  },
  {
   "cell_type": "code",
   "execution_count": 51,
   "id": "a18da8e3-4993-4695-941c-b3881b235e55",
   "metadata": {},
   "outputs": [
    {
     "name": "stdout",
     "output_type": "stream",
     "text": [
      "A/B Test Summary:\n"
     ]
    },
    {
     "data": {
      "text/html": [
       "<div>\n",
       "<style scoped>\n",
       "    .dataframe tbody tr th:only-of-type {\n",
       "        vertical-align: middle;\n",
       "    }\n",
       "\n",
       "    .dataframe tbody tr th {\n",
       "        vertical-align: top;\n",
       "    }\n",
       "\n",
       "    .dataframe thead th {\n",
       "        text-align: right;\n",
       "    }\n",
       "</style>\n",
       "<table border=\"1\" class=\"dataframe\">\n",
       "  <thead>\n",
       "    <tr style=\"text-align: right;\">\n",
       "      <th></th>\n",
       "      <th>group</th>\n",
       "      <th>converted</th>\n",
       "      <th>count</th>\n",
       "      <th>std_err</th>\n",
       "    </tr>\n",
       "  </thead>\n",
       "  <tbody>\n",
       "    <tr>\n",
       "      <th>0</th>\n",
       "      <td>control</td>\n",
       "      <td>0.124</td>\n",
       "      <td>1000</td>\n",
       "      <td>0.010427</td>\n",
       "    </tr>\n",
       "    <tr>\n",
       "      <th>1</th>\n",
       "      <td>variant</td>\n",
       "      <td>0.148</td>\n",
       "      <td>1000</td>\n",
       "      <td>0.011235</td>\n",
       "    </tr>\n",
       "  </tbody>\n",
       "</table>\n",
       "</div>"
      ],
      "text/plain": [
       "     group  converted  count   std_err\n",
       "0  control      0.124   1000  0.010427\n",
       "1  variant      0.148   1000  0.011235"
      ]
     },
     "metadata": {},
     "output_type": "display_data"
    }
   ],
   "source": [
    "# Display summary stats in notebook\n",
    "print(\"A/B Test Summary:\")\n",
    "display(summary.head())"
   ]
  },
  {
   "cell_type": "code",
   "execution_count": 52,
   "id": "ce0690d5-a687-499b-bfca-fbc75f72d6d4",
   "metadata": {},
   "outputs": [
    {
     "name": "stdout",
     "output_type": "stream",
     "text": [
      "T-statistic: -1.5657\n",
      "P-value: 0.1176\n",
      "\n",
      "A/B Test Summary:\n",
      "     group  converted  count   std_err\n",
      "0  control      0.124   1000  0.010427\n",
      "1  variant      0.148   1000  0.011235\n"
     ]
    }
   ],
   "source": [
    "# Output test statistics for inclusion in notebook\n",
    "print(f\"T-statistic: {t_stat:.4f}\")\n",
    "print(f\"P-value: {p_val:.4f}\")\n",
    "print(\"\\nA/B Test Summary:\")\n",
    "print(summary[['group', 'converted', 'count', 'std_err']].head())"
   ]
  },
  {
   "cell_type": "code",
   "execution_count": 53,
   "id": "cbb804c2-fb05-4487-9b9e-ae7e96971054",
   "metadata": {},
   "outputs": [
    {
     "name": "stdout",
     "output_type": "stream",
     "text": [
      "\n",
      "Interpretation:\n",
      "The difference is NOT statistically significant. We cannot conclude the variant is better.\n"
     ]
    }
   ],
   "source": [
    "# Interpretation block\n",
    "print(\"\\nInterpretation:\")\n",
    "if p_val < 0.05:\n",
    "    print(\"The difference in conversion rates is statistically significant. The variant likely performs better.\")\n",
    "else:\n",
    "    print(\"The difference is NOT statistically significant. We cannot conclude the variant is better.\")"
   ]
  }
 ],
 "metadata": {
  "kernelspec": {
   "display_name": "Python 3 (ipykernel)",
   "language": "python",
   "name": "python3"
  },
  "language_info": {
   "codemirror_mode": {
    "name": "ipython",
    "version": 3
   },
   "file_extension": ".py",
   "mimetype": "text/x-python",
   "name": "python",
   "nbconvert_exporter": "python",
   "pygments_lexer": "ipython3",
   "version": "3.12.7"
  }
 },
 "nbformat": 4,
 "nbformat_minor": 5
}
